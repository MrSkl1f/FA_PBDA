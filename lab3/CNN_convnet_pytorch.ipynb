version https://git-lfs.github.com/spec/v1
oid sha256:974527fa8980f1472b36094871fb9d22847084fec1a123f192ac0219d1ba3a65
size 205330
