version https://git-lfs.github.com/spec/v1
oid sha256:07bcd627ce6e8b0905b9a7b2bdda2bbaf1f0bdbbf83e208f7c327a2992eae3b5
size 1076585
