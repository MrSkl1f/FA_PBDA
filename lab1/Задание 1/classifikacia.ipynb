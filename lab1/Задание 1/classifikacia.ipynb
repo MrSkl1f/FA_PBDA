version https://git-lfs.github.com/spec/v1
oid sha256:98dabf576231d80e1385f3889cc6a98a225107e9c229272012327f09a1fdb9ec
size 531600
